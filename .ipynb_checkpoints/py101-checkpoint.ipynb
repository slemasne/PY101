{
 "cells": [
  {
   "cell_type": "markdown",
   "metadata": {},
   "source": [
    "# Python Questions - Theory and Practical\n",
    "\n",
    "_by Stephen LeMasney_\n",
    "\n",
    "This page is a bank of Python questions. We address both practial and theoretical questions. To give some real world context, we'll frame our examples around the theme of the \"London Underground\"."
   ]
  },
  {
   "cell_type": "markdown",
   "metadata": {},
   "source": [
    "### Table of Contents\n",
    "\n",
    "#### 1. Setup and Introduction\n",
    "\n",
    "* [Setup](#setup)\n",
    "* [What are the key features of Python?](#features)\n",
    "* [What is namespace in Python?](#namespace)\n",
    "\n",
    "#### 2. Functions\n",
    "\n",
    "* [What is the map function?](#map)\n",
    "\n",
    "#### 3. Classes\n",
    "\n",
    "* [Inheritance](#inheritance)\n",
    "* [Staticmethod and classmethod](#static_and_class)\n",
    "\n",
    "#### 4. String questions\n",
    "\n",
    "* [Count all letters in a string](#count_letters)\n",
    "* [Write a function to take a list of words and returns the length of the longest word](#longest_word)\n",
    "* [Write a function to check if a sentence is a pangram or not.](#pangram)\n",
    "* [Define a function for palindromes](#palindromes)\n",
    "\n",
    "\n",
    "#### 5. Numeric questions\n",
    "\n",
    "* [Write an algo to sort a list of random numbers](#random_numbers)\n",
    "\n",
    "#### 6. Advanced concepts\n",
    "\n",
    "* [Deep and shallow copy](#copies)\n",
    "* [Difference between repr and str in Python](#repr_and_string)\n",
    "* [Exception handling](#exceptions)\n",
    "* [Generators](#generators)\n",
    "* [Decorators](#decorators)\n",
    "\n",
    "#### 7. Project Euler"
   ]
  },
  {
   "cell_type": "markdown",
   "metadata": {},
   "source": [
    "<h3> <u>  <font color='DarkBlue'>1. Setup and Introduction </font> </u>  </h3>"
   ]
  },
  {
   "cell_type": "markdown",
   "metadata": {},
   "source": [
    "#### Setup and import packages <a name=\"setup\"></a>\n",
    "\n",
    "Python code in one module gains access to code in another module by the process of importing it. The import statement combines two operations: it searches for the names module, then it binds the results of that search to a name in the local scope."
   ]
  },
  {
   "cell_type": "code",
   "execution_count": 4,
   "metadata": {},
   "outputs": [],
   "source": [
    "import os\n",
    "import sys\n",
    "from collections import Counter\n",
    "import string\n",
    "import datetime\n",
    "import random\n",
    "import copy"
   ]
  },
  {
   "cell_type": "code",
   "execution_count": 5,
   "metadata": {},
   "outputs": [
    {
     "name": "stdout",
     "output_type": "stream",
     "text": [
      "/Users/slemasne/anaconda3/bin/python\n",
      "darwin\n"
     ]
    }
   ],
   "source": [
    "print(sys.executable)\n",
    "print(sys.platform)"
   ]
  },
  {
   "cell_type": "code",
   "execution_count": 6,
   "metadata": {},
   "outputs": [],
   "source": [
    "lines = [\"bakerloo\",\"central\",\"circle\",\"district\",\"hammersmith\",\n",
    "         \"jubilee\",\"metropolitan\",\"nothern\",\"piccadilly\",\"victoria\",\"waterloo&city\"]\n",
    "\n",
    "distances = [23,74,27,64,25,36,66,58,71,21,3]\n",
    "\n",
    "service = \"transport for london\"\n",
    "service_code = \"TFL\"\n",
    "\n",
    "line_dict = dict(zip(lines, distances))"
   ]
  },
  {
   "cell_type": "markdown",
   "metadata": {},
   "source": [
    "#### What are the key features of Python? <a name=\"features\"></a>\n",
    "\n",
    "The key features of Python:\n",
    "\n",
    "1. Python is an interpreted language. This means that it does not need to be compiled before it is run.\n",
    "\n",
    "2. Python is dynamically typed. You do not need to specify data types for example.\n",
    "\n",
    "3. In Python, functions are first class objects. This means that they can be assigned to variables, returned from other functions and passed into functions.\n",
    "\n",
    "4. Python is quick but it is often slower than compiled languages, like C. Fortunately Python allows the inclusion of C based extensions. One example is numpy package, which is quite fast as the actual number crunching is not completed by Python."
   ]
  },
  {
   "cell_type": "markdown",
   "metadata": {},
   "source": [
    "#### What is namespace in Python? <a name=\"namespace\"></a>\n",
    "\n",
    "In Python, every name which is introduced has a place where it lives. This is known as namespace. It is like a box where a variable name is mapped to the object placed. "
   ]
  },
  {
   "cell_type": "markdown",
   "metadata": {},
   "source": [
    "<h3> <u>  <font color='DarkBlue'> 2. Functions </font> </u>  </h3>\n"
   ]
  },
  {
   "cell_type": "markdown",
   "metadata": {},
   "source": [
    "#### What is the map function in Python? <a name=\"map\"></a>\n",
    "\n",
    "The _map_ function executes the function given as the first argument on all the elements of the iterable given as a second argument. "
   ]
  },
  {
   "cell_type": "code",
   "execution_count": 12,
   "metadata": {},
   "outputs": [
    {
     "name": "stdout",
     "output_type": "stream",
     "text": [
      "[4, 8, 8, 11]\n"
     ]
    }
   ],
   "source": [
    "def plus_3(x):\n",
    "    return x + 3\n",
    "\n",
    "data_set = [1, 5, 5, 8]\n",
    "\n",
    "data_set_plus_3 = map(plus_3, data_set)\n",
    "\n",
    "print (list(data_set_plus_3))"
   ]
  },
  {
   "cell_type": "markdown",
   "metadata": {},
   "source": [
    "<h3> <u>  <font color='DarkBlue'> 3. Classes </font> </u>  </h3>"
   ]
  },
  {
   "cell_type": "markdown",
   "metadata": {},
   "source": [
    "#### Explain inheritance with example <a name=\"inheritance\"></a>\n",
    "\n",
    "The first print statement prints 1 for all \"x\" attributes of the class. The two child classes inherit the \"x\" attribute from the parent class.\n",
    "\n",
    "The second print statement prints \"2\" for Child1 as this has been overridden at the child level. The value is changed for that child only.\n",
    "\n",
    "Finally, if the value is then changed for the parent, then that override is reflected by any child which has not yet already overriden their value. This is why Child1 keeps the \"2\" value."
   ]
  },
  {
   "cell_type": "code",
   "execution_count": 9,
   "metadata": {},
   "outputs": [
    {
     "name": "stdout",
     "output_type": "stream",
     "text": [
      "1 1 1\n",
      "1 2 1\n",
      "3 2 3\n"
     ]
    }
   ],
   "source": [
    "class Parent(object):\n",
    "    x = 1\n",
    "\n",
    "class Child1(Parent):\n",
    "    pass\n",
    "\n",
    "class Child2(Parent):\n",
    "    pass\n",
    "\n",
    "\n",
    "print (Parent.x, Child1.x, Child2.x)\n",
    "Child1.x = 2\n",
    "print (Parent.x, Child1.x, Child2.x)\n",
    "Parent.x = 3\n",
    "print (Parent.x, Child1.x, Child2.x)"
   ]
  },
  {
   "cell_type": "markdown",
   "metadata": {},
   "source": [
    "#### Staticmethod and classmethod <a name=\"static_and_class\"></a>\n",
    "\n",
    "Static methods are a special case of methods. Sometimes, you'll write code that belongs to a class, but that doesn't use the object itself at all.\n",
    "\n",
    "Class methods are methods that are not bound to an object, but to… a class! A good example use-case for a classmethod is a constructor."
   ]
  },
  {
   "cell_type": "code",
   "execution_count": 10,
   "metadata": {},
   "outputs": [],
   "source": [
    "class Employee:\n",
    "    \n",
    "    num_of_emps = 0\n",
    "    raise_amt = 1.04\n",
    "    \n",
    "    def __init__(self, first, last, pay):\n",
    "        self.first = first\n",
    "        self.last = last\n",
    "        self.email = \"{}.{}@email.com\".format(first, last)\n",
    "        self.pay = pay\n",
    "    \n",
    "        Employee.num_of_emps += 1\n",
    "    \n",
    "    def fullname(self):\n",
    "        return \"{} {}\".format(self.first, self.last)\n",
    "    \n",
    "    def apply_raise(self):\n",
    "        self.pay = int(self.pay * self.raise_amt)\n",
    "        \n",
    "    @classmethod\n",
    "    def from_string(cls, emp_str):\n",
    "        first, last, pay = emp_str.split(\"-\")\n",
    "        return cls(first, last, pay)"
   ]
  },
  {
   "cell_type": "code",
   "execution_count": 11,
   "metadata": {},
   "outputs": [
    {
     "name": "stdout",
     "output_type": "stream",
     "text": [
      "Stephen\n"
     ]
    }
   ],
   "source": [
    "employee1 = Employee(\"Joe\", \"Smith\", 50000)\n",
    "employee2 = Employee(\"Jane\", \"Foo\", 50000)\n",
    "\n",
    "emp_str_3 = \"Stephen-Lemasney-30000\"\n",
    "emp_str_4 = \"Donald-Trump-10000\"\n",
    "\n",
    "employee3 = Employee.from_string(emp_str_3)\n",
    "print(employee3.first)"
   ]
  },
  {
   "cell_type": "markdown",
   "metadata": {},
   "source": [
    "<h3> <u>  <font color='DarkBlue'> 4. String questions </font> </u>  </h3>"
   ]
  },
  {
   "cell_type": "markdown",
   "metadata": {},
   "source": [
    "#### Count all letters in a string <a name=\"count_letters\"></a>"
   ]
  },
  {
   "cell_type": "code",
   "execution_count": 15,
   "metadata": {},
   "outputs": [
    {
     "name": "stdout",
     "output_type": "stream",
     "text": [
      "{'t': 2, 'r': 3, 'a': 1, 'n': 3, 's': 1, 'p': 1, 'o': 4, 'f': 1, 'l': 1, 'd': 1}\n",
      "Counter({'o': 4, 'r': 3, 'n': 3, 't': 2, ' ': 2, 'a': 1, 's': 1, 'p': 1, 'f': 1, 'l': 1, 'd': 1})\n"
     ]
    }
   ],
   "source": [
    "word_count = {}\n",
    "for i in service.replace(\" \",\"\"):\n",
    "    try:\n",
    "        word_count[i] += 1\n",
    "    except:\n",
    "        word_count[i] = 1\n",
    "        \n",
    "\n",
    "counter = Counter(service)\n",
    "\n",
    "print(word_count)\n",
    "print(counter)"
   ]
  },
  {
   "cell_type": "markdown",
   "metadata": {},
   "source": [
    "#### Write a function to take a list of words and returns the length of the longest word<a name=\"longest_word\"></a>"
   ]
  },
  {
   "cell_type": "code",
   "execution_count": 16,
   "metadata": {},
   "outputs": [
    {
     "name": "stdout",
     "output_type": "stream",
     "text": [
      "13\n"
     ]
    }
   ],
   "source": [
    "words = lines\n",
    "\n",
    "result = sorted([len(i) for i in lines])[-1]\n",
    "\n",
    "print(result)"
   ]
  },
  {
   "cell_type": "markdown",
   "metadata": {},
   "source": [
    "#### Write a function to check if a sentence is a pangram or not <a name=\"pangram\"></a>"
   ]
  },
  {
   "cell_type": "code",
   "execution_count": 17,
   "metadata": {},
   "outputs": [
    {
     "data": {
      "text/plain": [
       "False"
      ]
     },
     "execution_count": 17,
     "metadata": {},
     "output_type": "execute_result"
    }
   ],
   "source": [
    "sentence = 'The quick brown fox jumps over the laz dog'\n",
    "\n",
    "isPangram = (lambda s: not set(string.ascii_lowercase) - set(s.lower()))\n",
    "isPangram(sentence)"
   ]
  },
  {
   "cell_type": "markdown",
   "metadata": {},
   "source": [
    "#### Define a function for palindromes <a name=\"palindromes\"></a>"
   ]
  },
  {
   "cell_type": "code",
   "execution_count": 21,
   "metadata": {},
   "outputs": [
    {
     "name": "stdout",
     "output_type": "stream",
     "text": [
      "True\n",
      "False\n"
     ]
    }
   ],
   "source": [
    "def isPalindrome(word):\n",
    "    return word == word[::-1]\n",
    "\n",
    "print(isPalindrome(\"radar\"))\n",
    "print(isPalindrome(\"blackrock\"))"
   ]
  },
  {
   "cell_type": "markdown",
   "metadata": {},
   "source": [
    "<h3> <u>  <font color='DarkBlue'> 5. Numeric questions </font> </u>  </h3>"
   ]
  },
  {
   "cell_type": "markdown",
   "metadata": {},
   "source": [
    "#### Write an algo to sort a list of random numbers <a name=\"random_numbers\"></a>"
   ]
  },
  {
   "cell_type": "code",
   "execution_count": 24,
   "metadata": {},
   "outputs": [
    {
     "data": {
      "text/plain": [
       "[2, 3, 4, 7, 11, 16, 16, 18, 18, 19]"
      ]
     },
     "execution_count": 24,
     "metadata": {},
     "output_type": "execute_result"
    }
   ],
   "source": [
    "num_list = [ random.randint(1,20) for i in range(10)]\n",
    "num_list.sort()\n",
    "num_list"
   ]
  },
  {
   "cell_type": "markdown",
   "metadata": {},
   "source": [
    "#### Write a sorting algorithm for a numerical dataset in Python? <a name=\"sorting_algo\"></a>"
   ]
  },
  {
   "cell_type": "code",
   "execution_count": 43,
   "metadata": {},
   "outputs": [
    {
     "name": "stdout",
     "output_type": "stream",
     "text": [
      "[3, 21, 23, 25, 27, 36, 58, 64, 66, 71, 74]\n"
     ]
    }
   ],
   "source": [
    "dataset = list(distances)\n",
    "dataset.sort()\n",
    "print(dataset)"
   ]
  },
  {
   "cell_type": "markdown",
   "metadata": {},
   "source": [
    "<h3> <u>  <font color='DarkBlue'> 6. Advanced concepts </font> </u>  </h3>"
   ]
  },
  {
   "cell_type": "markdown",
   "metadata": {},
   "source": [
    "#### What is difference between a deep and shallow copy? <a name=\"copies\"></a>\n",
    "\n",
    "The difference:\n",
    "\n",
    "+ A Shallow copy means constructing a new collection object and then populating it with references to the child objects found in the original. In essence, a shallow copy is only one level deep.\n",
    "\n",
    "+ A Deep copy makes the copying process recursive. Copying an object this way walks the whole object tree to create a fully independant clone of the original object and all of its children."
   ]
  },
  {
   "cell_type": "code",
   "execution_count": 23,
   "metadata": {},
   "outputs": [
    {
     "name": "stdout",
     "output_type": "stream",
     "text": [
      "['foo', [1, 2, 3], 10.4]\n",
      "['bar', [1, 2, 3], 10.4]\n",
      "\n",
      "\n",
      "['foo', [1, 2, 3, 4], 10.4]\n",
      "['bar', [1, 2, 3, 4], 10.4]\n",
      "\n",
      "\n",
      "['bar', [1, 2, 3, 4, 5], 10.4]\n",
      "['bar', [1, 2, 3, 4], 10.4]\n",
      "\n",
      "\n"
     ]
    }
   ],
   "source": [
    "import copy\n",
    "\n",
    "# Create a list then copy that list \n",
    "x = [\"bar\", [1,2,3], 10.4]\n",
    "y = list(x)\n",
    "\n",
    "# y is a shallow copy of x\n",
    "# lets change value of one item in x\n",
    "x[0] = \"foo\"\n",
    "print(x)\n",
    "print(y)\n",
    "print(\"\\n\")\n",
    "\n",
    "# Now lets change one of the child objects inside x\n",
    "# The value changes for x and for y. This is beacuse both lists point to the same object in\n",
    "# the computer's memory.\n",
    "\n",
    "x[1].append(4)\n",
    "\n",
    "print(x)\n",
    "print(y)\n",
    "print(\"\\n\")\n",
    "\n",
    "# Now lets try a deep copy\n",
    "\n",
    "x = copy.deepcopy(y)\n",
    "x[1].append(5)\n",
    "print(x)\n",
    "print(y)\n",
    "print(\"\\n\")"
   ]
  },
  {
   "cell_type": "markdown",
   "metadata": {},
   "source": [
    "#### What is difference between repr and str in Python? <a name=\"repr_and_string\"></a>\n",
    "\n",
    "When implementing a class, we usually define the following:\n",
    "\n",
    "(1) __str__ should print a readable message\n",
    "\n",
    "(2) __repr__ should print a message which is unambiguos\n",
    "\n",
    "You can see __str__ as a method for users and __repr__ as a method for developers"
   ]
  },
  {
   "cell_type": "code",
   "execution_count": 29,
   "metadata": {},
   "outputs": [
    {
     "name": "stdout",
     "output_type": "stream",
     "text": [
      "2018-12-01\n",
      "datetime.date(2018, 12, 1)\n",
      "2018-12-01\n"
     ]
    }
   ],
   "source": [
    "import datetime\n",
    "today = datetime.date.today()\n",
    "\n",
    "print (str(today))\n",
    "print (repr(today))\n",
    "\n",
    "# Take the result of __repr__ and pass to interpreter\n",
    "\n",
    "print (datetime.date(2018, 12, 1))\n",
    "\n",
    "# __str__ ==> easy to read, for human consumption\n",
    "# __repr__ ==> unambigious"
   ]
  },
  {
   "cell_type": "markdown",
   "metadata": {},
   "source": [
    "#### Exception handling <a name=\"exceptions\"></a>"
   ]
  },
  {
   "cell_type": "code",
   "execution_count": 30,
   "metadata": {},
   "outputs": [
    {
     "ename": "Exception",
     "evalue": "There are only 11 tube lines in London!",
     "output_type": "error",
     "traceback": [
      "\u001b[0;31m---------------------------------------------------------------------------\u001b[0m",
      "\u001b[0;31mException\u001b[0m                                 Traceback (most recent call last)",
      "\u001b[0;32m<ipython-input-30-a036531aca29>\u001b[0m in \u001b[0;36m<module>\u001b[0;34m()\u001b[0m\n\u001b[1;32m      1\u001b[0m \u001b[0mline_count\u001b[0m \u001b[0;34m=\u001b[0m \u001b[0;36m12\u001b[0m\u001b[0;34m\u001b[0m\u001b[0m\n\u001b[1;32m      2\u001b[0m \u001b[0;32mif\u001b[0m \u001b[0mline_count\u001b[0m \u001b[0;34m>\u001b[0m \u001b[0mlen\u001b[0m\u001b[0;34m(\u001b[0m\u001b[0mlines\u001b[0m\u001b[0;34m)\u001b[0m\u001b[0;34m:\u001b[0m\u001b[0;34m\u001b[0m\u001b[0m\n\u001b[0;32m----> 3\u001b[0;31m     \u001b[0;32mraise\u001b[0m \u001b[0mException\u001b[0m\u001b[0;34m(\u001b[0m\u001b[0;34m\"There are only 11 tube lines in London!\"\u001b[0m\u001b[0;34m)\u001b[0m\u001b[0;34m\u001b[0m\u001b[0m\n\u001b[0m",
      "\u001b[0;31mException\u001b[0m: There are only 11 tube lines in London!"
     ]
    }
   ],
   "source": [
    "line_count = 12\n",
    "if line_count > len(lines):\n",
    "    raise Exception(\"There are only 11 tube lines in London!\")"
   ]
  },
  {
   "cell_type": "markdown",
   "metadata": {},
   "source": [
    "#### Generators <a name=\"generators\"></a>\n",
    "\n",
    "A generator function allows you to declare a function which behaves like an iterator. \n",
    "\n",
    "And what is an __iterator__ ? An iterator is an object that can be looped upon. You probably already know a few iterable objects: strings, lists, dictionaries.\n",
    "\n",
    "Why would you want to use an iterator? They save memory space. Iterators dont compute each value when instantiated. They only compute it when you ask for it. \n",
    "\n",
    "Generators use the yield statement rather than return. It works a bit like a return because it returns a value. The difference is that it saves the state of the function. "
   ]
  },
  {
   "cell_type": "code",
   "execution_count": 31,
   "metadata": {},
   "outputs": [
    {
     "name": "stdout",
     "output_type": "stream",
     "text": [
      "The next train arrives in 2 mins\n",
      "The next train arrives in 8 mins\n",
      "The next train arrives in 15 mins\n",
      "The next train arrives in 23 mins\n"
     ]
    }
   ],
   "source": [
    "times = [2,8,15,23]\n",
    "\n",
    "def nextTrain(times):\n",
    "    for time in times:\n",
    "        yield time\n",
    "\n",
    "myTrainTimes = nextTrain(times)    \n",
    "\n",
    "print(\"The next train arrives in {} mins\".format(str(next(myTrainTimes))))\n",
    "print(\"The next train arrives in {} mins\".format(str(next(myTrainTimes))))\n",
    "print(\"The next train arrives in {} mins\".format(str(next(myTrainTimes))))\n",
    "print(\"The next train arrives in {} mins\".format(str(next(myTrainTimes))))"
   ]
  },
  {
   "cell_type": "markdown",
   "metadata": {},
   "source": [
    "#### Decorators <a name=\"decorators\"></a>\n",
    "\n",
    "By definition, a decorator is a function that takes another function and extends the behavior of the latter function without explicitly modifying it."
   ]
  },
  {
   "cell_type": "code",
   "execution_count": 32,
   "metadata": {},
   "outputs": [
    {
     "name": "stdout",
     "output_type": "stream",
     "text": [
      "Time elapsed = 0:00:00.000007\n"
     ]
    },
    {
     "data": {
      "text/plain": [
       "45"
      ]
     },
     "execution_count": 32,
     "metadata": {},
     "output_type": "execute_result"
    }
   ],
   "source": [
    "# A basic example of a decorator is a timing function\n",
    "\n",
    "def time_this(original_function):\n",
    "    \n",
    "    def new_function(args):\n",
    "        before = datetime.datetime.now()\n",
    "        x = original_function(args)\n",
    "        after  = datetime.datetime.now()\n",
    "        print (\"Time elapsed = {0}\".format(after - before))\n",
    "        return x\n",
    "    return new_function\n",
    "\n",
    "@time_this\n",
    "def sumRange(n):\n",
    "    return sum(range(n))\n",
    "\n",
    "sumRange(10)"
   ]
  },
  {
   "cell_type": "markdown",
   "metadata": {},
   "source": [
    "<h3> <u>  <font color='DarkBlue'> 7. Project Euler </font> </u>  </h3>"
   ]
  },
  {
   "cell_type": "markdown",
   "metadata": {},
   "source": [
    "#### Question 1 - multiples of 3 and 5"
   ]
  },
  {
   "cell_type": "code",
   "execution_count": 33,
   "metadata": {},
   "outputs": [
    {
     "data": {
      "text/plain": [
       "233168"
      ]
     },
     "execution_count": 33,
     "metadata": {},
     "output_type": "execute_result"
    }
   ],
   "source": [
    "# If we list all the natural numbers below 10 that are multiples of 3 or 5, \n",
    "# we get 3, 5, 6 and 9. The sum of these multiples is 23.\n",
    "# Find the sum of all the multiples of 3 or 5 below 1000.\n",
    "\n",
    "result = sum([i for i in range(1,1000) if (i % 3 ==0) or (i % 5 ==0)])\n",
    "result"
   ]
  },
  {
   "cell_type": "markdown",
   "metadata": {},
   "source": [
    "#### Question 2 - even Fibonacci numbers"
   ]
  },
  {
   "cell_type": "code",
   "execution_count": 34,
   "metadata": {},
   "outputs": [
    {
     "name": "stdout",
     "output_type": "stream",
     "text": [
      "4613732\n",
      "4613732\n"
     ]
    }
   ],
   "source": [
    "# Each new term in the Fibonacci sequence is generated by adding the previous two terms. \n",
    "# By starting with 1 and 2, the first 10 terms will be:\n",
    "# 1, 2, 3, 5, 8, 13, 21, 34, 55, 89, ...\n",
    "# By considering the terms in the Fibonacci sequence whose values do not exceed four million,\n",
    "# find the sum of the even-valued terms.\n",
    "\n",
    "# Solution 1\n",
    "\n",
    "def sumPrevious(lst):\n",
    "    return lst[-1] + lst[-2]\n",
    "\n",
    "x = [1,2]\n",
    "while x[-1] < 4000000:\n",
    "    x.append(sumPrevious(x))\n",
    "    \n",
    "x = sum([i for i in x[:(len(x)-1)] if (i % 2 ==0)])\n",
    "\n",
    "print (x)\n",
    "\n",
    "# Solution 2\n",
    "\n",
    "def fib(limit):\n",
    "    a, b = 0, 1\n",
    "    while a < limit:\n",
    "        yield a\n",
    "        a, b = b, a + b\n",
    "\n",
    "print(sum(i for i in fib(4000000) if i % 2 == 0))"
   ]
  },
  {
   "cell_type": "markdown",
   "metadata": {},
   "source": [
    "#### Question 3 - Largest prime factor"
   ]
  },
  {
   "cell_type": "code",
   "execution_count": 35,
   "metadata": {},
   "outputs": [
    {
     "data": {
      "text/plain": [
       "2999"
      ]
     },
     "execution_count": 35,
     "metadata": {},
     "output_type": "execute_result"
    }
   ],
   "source": [
    "#The prime factors of 13195 are 5, 7, 13 and 29.\n",
    "\n",
    "#What is the largest prime factor of the number 600851475143?\n",
    "\n",
    "def isPrime(n):\n",
    "    for i in range(2,n):\n",
    "        if (n % i == 0):\n",
    "            return False\n",
    "    else:\n",
    "        return True\n",
    "\n",
    "    \n",
    "def maxPrimeFactor(n):\n",
    "    for factor in range(1,n):\n",
    "        if (n % factor == 0):\n",
    "            if isPrime(factor):\n",
    "                yield (factor)\n",
    "            \n",
    "max(maxPrimeFactor(131956))"
   ]
  },
  {
   "cell_type": "markdown",
   "metadata": {},
   "source": [
    "#### Question 4 - largest palindrome product"
   ]
  },
  {
   "cell_type": "code",
   "execution_count": 36,
   "metadata": {},
   "outputs": [],
   "source": [
    "# A palindromic number reads the same both ways. \n",
    "# The largest palindrome made from the product of two 2-digit numbers is 9009 = 91 × 99.\n",
    "# Find the largest palindrome made from the product of two 3-digit numbers.\n",
    "\n",
    "for i in range(100, 999999):\n",
    "    pass"
   ]
  },
  {
   "cell_type": "code",
   "execution_count": null,
   "metadata": {},
   "outputs": [],
   "source": []
  },
  {
   "cell_type": "code",
   "execution_count": null,
   "metadata": {},
   "outputs": [],
   "source": []
  }
 ],
 "metadata": {
  "kernelspec": {
   "display_name": "Python 3",
   "language": "python",
   "name": "python3"
  },
  "language_info": {
   "codemirror_mode": {
    "name": "ipython",
    "version": 3
   },
   "file_extension": ".py",
   "mimetype": "text/x-python",
   "name": "python",
   "nbconvert_exporter": "python",
   "pygments_lexer": "ipython3",
   "version": "3.6.5"
  }
 },
 "nbformat": 4,
 "nbformat_minor": 2
}
